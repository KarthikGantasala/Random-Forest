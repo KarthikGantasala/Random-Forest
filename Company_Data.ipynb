{
 "cells": [
  {
   "cell_type": "code",
   "execution_count": 113,
   "id": "6ab1d9ce",
   "metadata": {},
   "outputs": [],
   "source": [
    "import pandas as pd\n",
    "import numpy as np\n",
    "import seaborn as sns\n",
    "import matplotlib.pyplot as plt\n",
    "from sklearn.model_selection import train_test_split\n",
    "from sklearn.metrics import accuracy_score,confusion_matrix,classification_report\n",
    "from sklearn import preprocessing\n",
    "from sklearn.ensemble import RandomForestClassifier\n",
    "import warnings\n",
    "warnings.filterwarnings('ignore')"
   ]
  },
  {
   "cell_type": "code",
   "execution_count": 91,
   "id": "0165e692",
   "metadata": {},
   "outputs": [
    {
     "data": {
      "text/html": [
       "<div>\n",
       "<style scoped>\n",
       "    .dataframe tbody tr th:only-of-type {\n",
       "        vertical-align: middle;\n",
       "    }\n",
       "\n",
       "    .dataframe tbody tr th {\n",
       "        vertical-align: top;\n",
       "    }\n",
       "\n",
       "    .dataframe thead th {\n",
       "        text-align: right;\n",
       "    }\n",
       "</style>\n",
       "<table border=\"1\" class=\"dataframe\">\n",
       "  <thead>\n",
       "    <tr style=\"text-align: right;\">\n",
       "      <th></th>\n",
       "      <th>Sales</th>\n",
       "      <th>CompPrice</th>\n",
       "      <th>Income</th>\n",
       "      <th>Advertising</th>\n",
       "      <th>Population</th>\n",
       "      <th>Price</th>\n",
       "      <th>ShelveLoc</th>\n",
       "      <th>Age</th>\n",
       "      <th>Education</th>\n",
       "      <th>Urban</th>\n",
       "      <th>US</th>\n",
       "    </tr>\n",
       "  </thead>\n",
       "  <tbody>\n",
       "    <tr>\n",
       "      <th>0</th>\n",
       "      <td>9.50</td>\n",
       "      <td>138</td>\n",
       "      <td>73</td>\n",
       "      <td>11</td>\n",
       "      <td>276</td>\n",
       "      <td>120</td>\n",
       "      <td>Bad</td>\n",
       "      <td>42</td>\n",
       "      <td>17</td>\n",
       "      <td>Yes</td>\n",
       "      <td>Yes</td>\n",
       "    </tr>\n",
       "    <tr>\n",
       "      <th>1</th>\n",
       "      <td>11.22</td>\n",
       "      <td>111</td>\n",
       "      <td>48</td>\n",
       "      <td>16</td>\n",
       "      <td>260</td>\n",
       "      <td>83</td>\n",
       "      <td>Good</td>\n",
       "      <td>65</td>\n",
       "      <td>10</td>\n",
       "      <td>Yes</td>\n",
       "      <td>Yes</td>\n",
       "    </tr>\n",
       "    <tr>\n",
       "      <th>2</th>\n",
       "      <td>10.06</td>\n",
       "      <td>113</td>\n",
       "      <td>35</td>\n",
       "      <td>10</td>\n",
       "      <td>269</td>\n",
       "      <td>80</td>\n",
       "      <td>Medium</td>\n",
       "      <td>59</td>\n",
       "      <td>12</td>\n",
       "      <td>Yes</td>\n",
       "      <td>Yes</td>\n",
       "    </tr>\n",
       "    <tr>\n",
       "      <th>3</th>\n",
       "      <td>7.40</td>\n",
       "      <td>117</td>\n",
       "      <td>100</td>\n",
       "      <td>4</td>\n",
       "      <td>466</td>\n",
       "      <td>97</td>\n",
       "      <td>Medium</td>\n",
       "      <td>55</td>\n",
       "      <td>14</td>\n",
       "      <td>Yes</td>\n",
       "      <td>Yes</td>\n",
       "    </tr>\n",
       "    <tr>\n",
       "      <th>4</th>\n",
       "      <td>4.15</td>\n",
       "      <td>141</td>\n",
       "      <td>64</td>\n",
       "      <td>3</td>\n",
       "      <td>340</td>\n",
       "      <td>128</td>\n",
       "      <td>Bad</td>\n",
       "      <td>38</td>\n",
       "      <td>13</td>\n",
       "      <td>Yes</td>\n",
       "      <td>No</td>\n",
       "    </tr>\n",
       "    <tr>\n",
       "      <th>...</th>\n",
       "      <td>...</td>\n",
       "      <td>...</td>\n",
       "      <td>...</td>\n",
       "      <td>...</td>\n",
       "      <td>...</td>\n",
       "      <td>...</td>\n",
       "      <td>...</td>\n",
       "      <td>...</td>\n",
       "      <td>...</td>\n",
       "      <td>...</td>\n",
       "      <td>...</td>\n",
       "    </tr>\n",
       "    <tr>\n",
       "      <th>395</th>\n",
       "      <td>12.57</td>\n",
       "      <td>138</td>\n",
       "      <td>108</td>\n",
       "      <td>17</td>\n",
       "      <td>203</td>\n",
       "      <td>128</td>\n",
       "      <td>Good</td>\n",
       "      <td>33</td>\n",
       "      <td>14</td>\n",
       "      <td>Yes</td>\n",
       "      <td>Yes</td>\n",
       "    </tr>\n",
       "    <tr>\n",
       "      <th>396</th>\n",
       "      <td>6.14</td>\n",
       "      <td>139</td>\n",
       "      <td>23</td>\n",
       "      <td>3</td>\n",
       "      <td>37</td>\n",
       "      <td>120</td>\n",
       "      <td>Medium</td>\n",
       "      <td>55</td>\n",
       "      <td>11</td>\n",
       "      <td>No</td>\n",
       "      <td>Yes</td>\n",
       "    </tr>\n",
       "    <tr>\n",
       "      <th>397</th>\n",
       "      <td>7.41</td>\n",
       "      <td>162</td>\n",
       "      <td>26</td>\n",
       "      <td>12</td>\n",
       "      <td>368</td>\n",
       "      <td>159</td>\n",
       "      <td>Medium</td>\n",
       "      <td>40</td>\n",
       "      <td>18</td>\n",
       "      <td>Yes</td>\n",
       "      <td>Yes</td>\n",
       "    </tr>\n",
       "    <tr>\n",
       "      <th>398</th>\n",
       "      <td>5.94</td>\n",
       "      <td>100</td>\n",
       "      <td>79</td>\n",
       "      <td>7</td>\n",
       "      <td>284</td>\n",
       "      <td>95</td>\n",
       "      <td>Bad</td>\n",
       "      <td>50</td>\n",
       "      <td>12</td>\n",
       "      <td>Yes</td>\n",
       "      <td>Yes</td>\n",
       "    </tr>\n",
       "    <tr>\n",
       "      <th>399</th>\n",
       "      <td>9.71</td>\n",
       "      <td>134</td>\n",
       "      <td>37</td>\n",
       "      <td>0</td>\n",
       "      <td>27</td>\n",
       "      <td>120</td>\n",
       "      <td>Good</td>\n",
       "      <td>49</td>\n",
       "      <td>16</td>\n",
       "      <td>Yes</td>\n",
       "      <td>Yes</td>\n",
       "    </tr>\n",
       "  </tbody>\n",
       "</table>\n",
       "<p>400 rows × 11 columns</p>\n",
       "</div>"
      ],
      "text/plain": [
       "     Sales  CompPrice  Income  Advertising  Population  Price ShelveLoc  Age  \\\n",
       "0     9.50        138      73           11         276    120       Bad   42   \n",
       "1    11.22        111      48           16         260     83      Good   65   \n",
       "2    10.06        113      35           10         269     80    Medium   59   \n",
       "3     7.40        117     100            4         466     97    Medium   55   \n",
       "4     4.15        141      64            3         340    128       Bad   38   \n",
       "..     ...        ...     ...          ...         ...    ...       ...  ...   \n",
       "395  12.57        138     108           17         203    128      Good   33   \n",
       "396   6.14        139      23            3          37    120    Medium   55   \n",
       "397   7.41        162      26           12         368    159    Medium   40   \n",
       "398   5.94        100      79            7         284     95       Bad   50   \n",
       "399   9.71        134      37            0          27    120      Good   49   \n",
       "\n",
       "     Education Urban   US  \n",
       "0           17   Yes  Yes  \n",
       "1           10   Yes  Yes  \n",
       "2           12   Yes  Yes  \n",
       "3           14   Yes  Yes  \n",
       "4           13   Yes   No  \n",
       "..         ...   ...  ...  \n",
       "395         14   Yes  Yes  \n",
       "396         11    No  Yes  \n",
       "397         18   Yes  Yes  \n",
       "398         12   Yes  Yes  \n",
       "399         16   Yes  Yes  \n",
       "\n",
       "[400 rows x 11 columns]"
      ]
     },
     "execution_count": 91,
     "metadata": {},
     "output_type": "execute_result"
    }
   ],
   "source": [
    "company_data = pd.read_csv('Company_Data.csv')\n",
    "company_data"
   ]
  },
  {
   "cell_type": "code",
   "execution_count": 92,
   "id": "0c36b2ff",
   "metadata": {},
   "outputs": [
    {
     "data": {
      "text/plain": [
       "(400, 11)"
      ]
     },
     "execution_count": 92,
     "metadata": {},
     "output_type": "execute_result"
    }
   ],
   "source": [
    "company_data.shape"
   ]
  },
  {
   "cell_type": "code",
   "execution_count": 93,
   "id": "4d73b521",
   "metadata": {},
   "outputs": [
    {
     "data": {
      "text/plain": [
       "Sales          0\n",
       "CompPrice      0\n",
       "Income         0\n",
       "Advertising    0\n",
       "Population     0\n",
       "Price          0\n",
       "ShelveLoc      0\n",
       "Age            0\n",
       "Education      0\n",
       "Urban          0\n",
       "US             0\n",
       "dtype: int64"
      ]
     },
     "execution_count": 93,
     "metadata": {},
     "output_type": "execute_result"
    }
   ],
   "source": [
    "company_data.isna().sum()"
   ]
  },
  {
   "cell_type": "code",
   "execution_count": 94,
   "id": "cb92a6ca",
   "metadata": {},
   "outputs": [
    {
     "data": {
      "text/plain": [
       "Sales          float64\n",
       "CompPrice        int64\n",
       "Income           int64\n",
       "Advertising      int64\n",
       "Population       int64\n",
       "Price            int64\n",
       "ShelveLoc       object\n",
       "Age              int64\n",
       "Education        int64\n",
       "Urban           object\n",
       "US              object\n",
       "dtype: object"
      ]
     },
     "execution_count": 94,
     "metadata": {},
     "output_type": "execute_result"
    }
   ],
   "source": [
    "company_data.dtypes"
   ]
  },
  {
   "cell_type": "code",
   "execution_count": 95,
   "id": "bd93b94e",
   "metadata": {},
   "outputs": [
    {
     "data": {
      "text/html": [
       "<div>\n",
       "<style scoped>\n",
       "    .dataframe tbody tr th:only-of-type {\n",
       "        vertical-align: middle;\n",
       "    }\n",
       "\n",
       "    .dataframe tbody tr th {\n",
       "        vertical-align: top;\n",
       "    }\n",
       "\n",
       "    .dataframe thead th {\n",
       "        text-align: right;\n",
       "    }\n",
       "</style>\n",
       "<table border=\"1\" class=\"dataframe\">\n",
       "  <thead>\n",
       "    <tr style=\"text-align: right;\">\n",
       "      <th></th>\n",
       "      <th>Sales</th>\n",
       "      <th>CompPrice</th>\n",
       "      <th>Income</th>\n",
       "      <th>Advertising</th>\n",
       "      <th>Population</th>\n",
       "      <th>Price</th>\n",
       "      <th>ShelveLoc</th>\n",
       "      <th>Age</th>\n",
       "      <th>Education</th>\n",
       "      <th>Urban</th>\n",
       "      <th>US</th>\n",
       "    </tr>\n",
       "  </thead>\n",
       "  <tbody>\n",
       "    <tr>\n",
       "      <th>0</th>\n",
       "      <td>9.50</td>\n",
       "      <td>138</td>\n",
       "      <td>73</td>\n",
       "      <td>11</td>\n",
       "      <td>276</td>\n",
       "      <td>120</td>\n",
       "      <td>0</td>\n",
       "      <td>42</td>\n",
       "      <td>17</td>\n",
       "      <td>1</td>\n",
       "      <td>1</td>\n",
       "    </tr>\n",
       "    <tr>\n",
       "      <th>1</th>\n",
       "      <td>11.22</td>\n",
       "      <td>111</td>\n",
       "      <td>48</td>\n",
       "      <td>16</td>\n",
       "      <td>260</td>\n",
       "      <td>83</td>\n",
       "      <td>1</td>\n",
       "      <td>65</td>\n",
       "      <td>10</td>\n",
       "      <td>1</td>\n",
       "      <td>1</td>\n",
       "    </tr>\n",
       "    <tr>\n",
       "      <th>2</th>\n",
       "      <td>10.06</td>\n",
       "      <td>113</td>\n",
       "      <td>35</td>\n",
       "      <td>10</td>\n",
       "      <td>269</td>\n",
       "      <td>80</td>\n",
       "      <td>2</td>\n",
       "      <td>59</td>\n",
       "      <td>12</td>\n",
       "      <td>1</td>\n",
       "      <td>1</td>\n",
       "    </tr>\n",
       "    <tr>\n",
       "      <th>3</th>\n",
       "      <td>7.40</td>\n",
       "      <td>117</td>\n",
       "      <td>100</td>\n",
       "      <td>4</td>\n",
       "      <td>466</td>\n",
       "      <td>97</td>\n",
       "      <td>2</td>\n",
       "      <td>55</td>\n",
       "      <td>14</td>\n",
       "      <td>1</td>\n",
       "      <td>1</td>\n",
       "    </tr>\n",
       "    <tr>\n",
       "      <th>4</th>\n",
       "      <td>4.15</td>\n",
       "      <td>141</td>\n",
       "      <td>64</td>\n",
       "      <td>3</td>\n",
       "      <td>340</td>\n",
       "      <td>128</td>\n",
       "      <td>0</td>\n",
       "      <td>38</td>\n",
       "      <td>13</td>\n",
       "      <td>1</td>\n",
       "      <td>0</td>\n",
       "    </tr>\n",
       "    <tr>\n",
       "      <th>...</th>\n",
       "      <td>...</td>\n",
       "      <td>...</td>\n",
       "      <td>...</td>\n",
       "      <td>...</td>\n",
       "      <td>...</td>\n",
       "      <td>...</td>\n",
       "      <td>...</td>\n",
       "      <td>...</td>\n",
       "      <td>...</td>\n",
       "      <td>...</td>\n",
       "      <td>...</td>\n",
       "    </tr>\n",
       "    <tr>\n",
       "      <th>395</th>\n",
       "      <td>12.57</td>\n",
       "      <td>138</td>\n",
       "      <td>108</td>\n",
       "      <td>17</td>\n",
       "      <td>203</td>\n",
       "      <td>128</td>\n",
       "      <td>1</td>\n",
       "      <td>33</td>\n",
       "      <td>14</td>\n",
       "      <td>1</td>\n",
       "      <td>1</td>\n",
       "    </tr>\n",
       "    <tr>\n",
       "      <th>396</th>\n",
       "      <td>6.14</td>\n",
       "      <td>139</td>\n",
       "      <td>23</td>\n",
       "      <td>3</td>\n",
       "      <td>37</td>\n",
       "      <td>120</td>\n",
       "      <td>2</td>\n",
       "      <td>55</td>\n",
       "      <td>11</td>\n",
       "      <td>0</td>\n",
       "      <td>1</td>\n",
       "    </tr>\n",
       "    <tr>\n",
       "      <th>397</th>\n",
       "      <td>7.41</td>\n",
       "      <td>162</td>\n",
       "      <td>26</td>\n",
       "      <td>12</td>\n",
       "      <td>368</td>\n",
       "      <td>159</td>\n",
       "      <td>2</td>\n",
       "      <td>40</td>\n",
       "      <td>18</td>\n",
       "      <td>1</td>\n",
       "      <td>1</td>\n",
       "    </tr>\n",
       "    <tr>\n",
       "      <th>398</th>\n",
       "      <td>5.94</td>\n",
       "      <td>100</td>\n",
       "      <td>79</td>\n",
       "      <td>7</td>\n",
       "      <td>284</td>\n",
       "      <td>95</td>\n",
       "      <td>0</td>\n",
       "      <td>50</td>\n",
       "      <td>12</td>\n",
       "      <td>1</td>\n",
       "      <td>1</td>\n",
       "    </tr>\n",
       "    <tr>\n",
       "      <th>399</th>\n",
       "      <td>9.71</td>\n",
       "      <td>134</td>\n",
       "      <td>37</td>\n",
       "      <td>0</td>\n",
       "      <td>27</td>\n",
       "      <td>120</td>\n",
       "      <td>1</td>\n",
       "      <td>49</td>\n",
       "      <td>16</td>\n",
       "      <td>1</td>\n",
       "      <td>1</td>\n",
       "    </tr>\n",
       "  </tbody>\n",
       "</table>\n",
       "<p>400 rows × 11 columns</p>\n",
       "</div>"
      ],
      "text/plain": [
       "     Sales  CompPrice  Income  Advertising  Population  Price  ShelveLoc  Age  \\\n",
       "0     9.50        138      73           11         276    120          0   42   \n",
       "1    11.22        111      48           16         260     83          1   65   \n",
       "2    10.06        113      35           10         269     80          2   59   \n",
       "3     7.40        117     100            4         466     97          2   55   \n",
       "4     4.15        141      64            3         340    128          0   38   \n",
       "..     ...        ...     ...          ...         ...    ...        ...  ...   \n",
       "395  12.57        138     108           17         203    128          1   33   \n",
       "396   6.14        139      23            3          37    120          2   55   \n",
       "397   7.41        162      26           12         368    159          2   40   \n",
       "398   5.94        100      79            7         284     95          0   50   \n",
       "399   9.71        134      37            0          27    120          1   49   \n",
       "\n",
       "     Education  Urban  US  \n",
       "0           17      1   1  \n",
       "1           10      1   1  \n",
       "2           12      1   1  \n",
       "3           14      1   1  \n",
       "4           13      1   0  \n",
       "..         ...    ...  ..  \n",
       "395         14      1   1  \n",
       "396         11      0   1  \n",
       "397         18      1   1  \n",
       "398         12      1   1  \n",
       "399         16      1   1  \n",
       "\n",
       "[400 rows x 11 columns]"
      ]
     },
     "execution_count": 95,
     "metadata": {},
     "output_type": "execute_result"
    }
   ],
   "source": [
    "from sklearn.preprocessing import LabelEncoder\n",
    "le_encoder=LabelEncoder()\n",
    "company_data['ShelveLoc'] = le_encoder.fit_transform(company_data['ShelveLoc'])\n",
    "company_data['Urban'] = le_encoder.fit_transform(company_data['Urban'])\n",
    "company_data['US'] = le_encoder.fit_transform(company_data['US'])\n",
    "company_data"
   ]
  },
  {
   "cell_type": "code",
   "execution_count": 96,
   "id": "e3a97c32",
   "metadata": {},
   "outputs": [
    {
     "data": {
      "text/plain": [
       "Sales          float64\n",
       "CompPrice        int64\n",
       "Income           int64\n",
       "Advertising      int64\n",
       "Population       int64\n",
       "Price            int64\n",
       "ShelveLoc        int32\n",
       "Age              int64\n",
       "Education        int64\n",
       "Urban            int32\n",
       "US               int32\n",
       "dtype: object"
      ]
     },
     "execution_count": 96,
     "metadata": {},
     "output_type": "execute_result"
    }
   ],
   "source": [
    "company_data.dtypes"
   ]
  },
  {
   "cell_type": "code",
   "execution_count": 97,
   "id": "e40a0bbe",
   "metadata": {},
   "outputs": [],
   "source": [
    "X=company_data.drop(['ShelveLoc'],axis=1)\n",
    "y=company_data[['ShelveLoc']]"
   ]
  },
  {
   "cell_type": "code",
   "execution_count": 98,
   "id": "16a2238b",
   "metadata": {},
   "outputs": [
    {
     "data": {
      "text/plain": [
       "((400, 10), (400, 1))"
      ]
     },
     "execution_count": 98,
     "metadata": {},
     "output_type": "execute_result"
    }
   ],
   "source": [
    "X.shape,y.shape"
   ]
  },
  {
   "cell_type": "code",
   "execution_count": 99,
   "id": "deda2084",
   "metadata": {},
   "outputs": [],
   "source": [
    "from sklearn.model_selection import train_test_split\n",
    "X_train,X_test,y_train,y_test = train_test_split(X,y,test_size=0.20,random_state=12)"
   ]
  },
  {
   "cell_type": "code",
   "execution_count": 100,
   "id": "131bc3e3",
   "metadata": {},
   "outputs": [
    {
     "data": {
      "text/plain": [
       "((320, 10), (320, 1))"
      ]
     },
     "execution_count": 100,
     "metadata": {},
     "output_type": "execute_result"
    }
   ],
   "source": [
    "X_train.shape,y_train.shape"
   ]
  },
  {
   "cell_type": "code",
   "execution_count": 101,
   "id": "e0eae558",
   "metadata": {},
   "outputs": [
    {
     "data": {
      "text/plain": [
       "((80, 10), (80, 1))"
      ]
     },
     "execution_count": 101,
     "metadata": {},
     "output_type": "execute_result"
    }
   ],
   "source": [
    "X_test.shape,y_test.shape"
   ]
  },
  {
   "cell_type": "code",
   "execution_count": 102,
   "id": "9e519eb7",
   "metadata": {},
   "outputs": [
    {
     "data": {
      "text/plain": [
       "RandomForestClassifier(max_depth=4)"
      ]
     },
     "execution_count": 102,
     "metadata": {},
     "output_type": "execute_result"
    }
   ],
   "source": [
    "from sklearn.ensemble import RandomForestClassifier\n",
    "rf_classifier=RandomForestClassifier(n_estimators=100,max_depth=4)\n",
    "rf_classifier.fit(X_train,y_train)"
   ]
  },
  {
   "cell_type": "code",
   "execution_count": 103,
   "id": "4afab888",
   "metadata": {},
   "outputs": [
    {
     "name": "stdout",
     "output_type": "stream",
     "text": [
      "{'criterion': 'entropy', 'max_depth': 9}\n",
      "0.6450000000000001\n"
     ]
    }
   ],
   "source": [
    "from sklearn.model_selection import GridSearchCV\n",
    "grid_search_cv=GridSearchCV(estimator=rf_classifier,param_grid={'criterion':['entropy','gini'],\n",
    "                                           'max_depth':[1,2,3,4,5,6,7,8,9,10]},\n",
    "                                            cv=5\n",
    "                                           )\n",
    "grid_search_cv.fit(X,y)\n",
    "print(grid_search_cv.best_params_)\n",
    "print(grid_search_cv.best_score_)"
   ]
  },
  {
   "cell_type": "code",
   "execution_count": 104,
   "id": "658cd014",
   "metadata": {},
   "outputs": [
    {
     "data": {
      "text/plain": [
       "RandomForestClassifier(criterion='entropy', max_depth=9)"
      ]
     },
     "execution_count": 104,
     "metadata": {},
     "output_type": "execute_result"
    }
   ],
   "source": [
    "from sklearn.ensemble import RandomForestClassifier\n",
    "rf_classifier=RandomForestClassifier(n_estimators=100,max_depth=9,criterion='entropy')\n",
    "rf_classifier.fit(X_train,y_train)"
   ]
  },
  {
   "cell_type": "code",
   "execution_count": 105,
   "id": "38a20405",
   "metadata": {},
   "outputs": [],
   "source": [
    "from sklearn.metrics import accuracy_score,confusion_matrix"
   ]
  },
  {
   "cell_type": "code",
   "execution_count": 106,
   "id": "c253efa0",
   "metadata": {},
   "outputs": [
    {
     "data": {
      "text/plain": [
       "array([2, 2, 0, 2, 2, 1, 2, 2, 0, 1, 2, 1, 1, 1, 2, 2, 0, 0, 2, 1, 2, 0,\n",
       "       2, 1, 1, 2, 2, 2, 2, 2, 2, 0, 1, 2, 0, 0, 1, 2, 2, 0, 1, 2, 0, 2,\n",
       "       2, 1, 0, 1, 1, 1, 1, 2, 2, 2, 1, 0, 0, 2, 0, 0, 2, 1, 0, 0, 0, 1,\n",
       "       0, 1, 2, 1, 0, 2, 2, 2, 2, 2, 0, 2, 0, 1, 2, 2, 2, 0, 2, 2, 0, 1,\n",
       "       2, 2, 0, 0, 2, 2, 1, 0, 0, 1, 2, 2, 2, 2, 2, 2, 2, 1, 2, 2, 1, 2,\n",
       "       1, 2, 0, 0, 2, 2, 0, 2, 0, 0, 2, 1, 0, 2, 0, 2, 2, 2, 2, 2, 1, 2,\n",
       "       1, 2, 0, 2, 2, 1, 1, 0, 0, 2, 1, 2, 2, 1, 2, 2, 2, 1, 2, 2, 2, 0,\n",
       "       2, 0, 2, 2, 2, 2, 2, 2, 1, 1, 0, 2, 2, 2, 2, 2, 0, 1, 0, 2, 0, 1,\n",
       "       1, 2, 2, 1, 1, 1, 2, 2, 2, 0, 2, 1, 2, 2, 1, 0, 2, 2, 2, 2, 2, 0,\n",
       "       2, 1, 1, 2, 2, 1, 1, 0, 0, 2, 2, 2, 2, 2, 2, 2, 0, 0, 2, 2, 0, 0,\n",
       "       2, 2, 2, 2, 0, 0, 2, 2, 0, 0, 2, 0, 2, 2, 2, 1, 2, 2, 2, 1, 2, 0,\n",
       "       0, 2, 2, 2, 2, 2, 2, 2, 2, 2, 2, 2, 0, 0, 2, 0, 1, 0, 2, 2, 2, 2,\n",
       "       0, 2, 2, 0, 2, 2, 0, 1, 0, 2, 2, 0, 0, 0, 0, 1, 2, 0, 0, 2, 2, 2,\n",
       "       2, 2, 1, 2, 1, 2, 0, 0, 1, 2, 1, 2, 0, 2, 1, 2, 2, 2, 2, 1, 2, 2,\n",
       "       0, 2, 1, 1, 2, 0, 2, 2, 2, 2, 2, 2])"
      ]
     },
     "execution_count": 106,
     "metadata": {},
     "output_type": "execute_result"
    }
   ],
   "source": [
    "y_train_pred = rf_classifier.predict(X_train)\n",
    "y_train_pred"
   ]
  },
  {
   "cell_type": "code",
   "execution_count": 107,
   "id": "61074efa",
   "metadata": {},
   "outputs": [
    {
     "data": {
      "text/plain": [
       "0.996875"
      ]
     },
     "execution_count": 107,
     "metadata": {},
     "output_type": "execute_result"
    }
   ],
   "source": [
    "accuracy_score(y_train,y_train_pred)"
   ]
  },
  {
   "cell_type": "code",
   "execution_count": 108,
   "id": "37e3b113",
   "metadata": {},
   "outputs": [
    {
     "data": {
      "text/plain": [
       "array([[ 79,   0,   0],\n",
       "       [  0,  63,   1],\n",
       "       [  0,   0, 177]], dtype=int64)"
      ]
     },
     "execution_count": 108,
     "metadata": {},
     "output_type": "execute_result"
    }
   ],
   "source": [
    "confusion_matrix(y_train,y_train_pred)"
   ]
  },
  {
   "cell_type": "code",
   "execution_count": 109,
   "id": "82cd526b",
   "metadata": {},
   "outputs": [
    {
     "data": {
      "text/plain": [
       "array([0, 2, 2, 1, 2, 2, 0, 2, 2, 2, 2, 2, 1, 2, 1, 2, 0, 1, 2, 2, 1, 2,\n",
       "       2, 2, 2, 2, 2, 2, 2, 0, 2, 2, 2, 0, 2, 2, 2, 2, 2, 0, 2, 2, 2, 1,\n",
       "       2, 2, 2, 2, 2, 2, 2, 2, 2, 2, 2, 2, 2, 0, 2, 2, 2, 2, 2, 2, 2, 2,\n",
       "       2, 2, 0, 2, 2, 0, 1, 2, 1, 1, 0, 2, 2, 2])"
      ]
     },
     "execution_count": 109,
     "metadata": {},
     "output_type": "execute_result"
    }
   ],
   "source": [
    "y_test_pred=rf_classifier.predict(X_test)\n",
    "y_test_pred"
   ]
  },
  {
   "cell_type": "code",
   "execution_count": 110,
   "id": "79e7d5f9",
   "metadata": {},
   "outputs": [
    {
     "data": {
      "text/plain": [
       "0.6875"
      ]
     },
     "execution_count": 110,
     "metadata": {},
     "output_type": "execute_result"
    }
   ],
   "source": [
    "accuracy_score(y_test,y_test_pred)"
   ]
  },
  {
   "cell_type": "code",
   "execution_count": 111,
   "id": "91f32285",
   "metadata": {},
   "outputs": [
    {
     "data": {
      "text/plain": [
       "array([[ 8,  0,  9],\n",
       "       [ 0,  8, 13],\n",
       "       [ 2,  1, 39]], dtype=int64)"
      ]
     },
     "execution_count": 111,
     "metadata": {},
     "output_type": "execute_result"
    }
   ],
   "source": [
    "confusion_matrix(y_test,y_test_pred)"
   ]
  }
 ],
 "metadata": {
  "kernelspec": {
   "display_name": "Python 3 (ipykernel)",
   "language": "python",
   "name": "python3"
  },
  "language_info": {
   "codemirror_mode": {
    "name": "ipython",
    "version": 3
   },
   "file_extension": ".py",
   "mimetype": "text/x-python",
   "name": "python",
   "nbconvert_exporter": "python",
   "pygments_lexer": "ipython3",
   "version": "3.9.7"
  }
 },
 "nbformat": 4,
 "nbformat_minor": 5
}
